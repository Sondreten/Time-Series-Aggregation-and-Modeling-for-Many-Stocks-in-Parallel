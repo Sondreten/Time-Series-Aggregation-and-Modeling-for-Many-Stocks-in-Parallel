{
 "cells": [
  {
   "cell_type": "code",
   "execution_count": 1,
   "metadata": {},
   "outputs": [
    {
     "name": "stdout",
     "output_type": "stream",
     "text": [
      "env: SPARK_LOCAL_HOSTNAME=localhost\n"
     ]
    }
   ],
   "source": [
    "%env SPARK_LOCAL_HOSTNAME=localhost\n",
    "from pyspark import SparkContext\n",
    "from pyspark import SparkConf\n",
    "from pyspark.sql import SparkSession\n",
    "#spark configuration\n",
    "conf = (\n",
    "    SparkConf()\n",
    "        .setMaster('local[*]')\n",
    "        #.set('spark.driver.memory', '16g')\n",
    ")\n",
    "\n",
    "sc = SparkContext(conf=conf)\n",
    "spark = SparkSession.builder.getOrCreate()\n",
    "\n"
   ]
  },
  {
   "cell_type": "code",
   "execution_count": 2,
   "metadata": {},
   "outputs": [],
   "source": [
    "from tick_util import summarize_ticks"
   ]
  },
  {
   "cell_type": "code",
   "execution_count": 3,
   "metadata": {},
   "outputs": [],
   "source": [
    "import re\n",
    "# take in the file path, and return the ticker and type e.g. ('EQNR,TRADES') or ('NHY,BIDASK')\n",
    "def split_file_path(file_path):\n",
    "    file_name = file_path.split('/')[-1]\n",
    "    file_name = file_name.split('.csv')[0]\n",
    "    fields = file_name.split('_')\n",
    "    return fields[0] + ',' + fields[2]\n",
    "\n",
    "def get_key(line, ts_offset=13):\n",
    "        # a very limited number of trades will have TickAttribLast variable set, this field JSON-like surrounded by quotes & w/ internal commas\n",
    "        if '\"' in line:\n",
    "            tick_line = re.split(r',(?=\")', line)\n",
    "        else:\n",
    "            tick_line = line.split(',')\n",
    "        ticker = tick_line[0]\n",
    "        key = ticker #+ '_' + tick_line[2][:ts_offset] # timestamp is 1st element of tick_line list, slice this string according to agg. period\n",
    "        return key, line\n",
    "\n",
    "files_rdd_in = sc.wholeTextFiles('data\\SALME*', 2000) \\\n",
    "    .filter(lambda l: l != '' and l is not None) \\\n",
    "    .flatMap(lambda f :[split_file_path(f[0]) + \",\" + line for line in f[1].splitlines()[1:]]) \\\n",
    "    .map(get_key)\n"
   ]
  },
  {
   "cell_type": "code",
   "execution_count": 4,
   "metadata": {},
   "outputs": [
    {
     "data": {
      "text/plain": [
       "[('SALME',\n",
       "  'SALME,BIDASK,2021-08-16 08:59:58+02:00,1629097198,,8.0,7.71,8230,873'),\n",
       " ('SALME',\n",
       "  'SALME,BIDASK,2021-08-16 09:00:14+02:00,1629097214,,7.86,7.88,5089,19702'),\n",
       " ('SALME',\n",
       "  'SALME,BIDASK,2021-08-16 09:00:49+02:00,1629097249,,7.85,7.88,22,19702'),\n",
       " ('SALME',\n",
       "  'SALME,BIDASK,2021-08-16 09:00:49+02:00,1629097249,,7.85,7.88,22,21382'),\n",
       " ('SALME',\n",
       "  'SALME,BIDASK,2021-08-16 09:00:49+02:00,1629097249,,7.85,7.88,22,19702')]"
      ]
     },
     "execution_count": 4,
     "metadata": {},
     "output_type": "execute_result"
    }
   ],
   "source": [
    "files_rdd_in.take(5)"
   ]
  },
  {
   "cell_type": "code",
   "execution_count": 6,
   "metadata": {},
   "outputs": [
    {
     "data": {
      "text/plain": [
       "591094"
      ]
     },
     "execution_count": 6,
     "metadata": {},
     "output_type": "execute_result"
    }
   ],
   "source": [
    "files_rdd_in.count()"
   ]
  },
  {
   "cell_type": "code",
   "execution_count": null,
   "metadata": {},
   "outputs": [],
   "source": [
    "files_rdd_reduced = files_rdd_in.reduceByKey(lambda a, b: a + b)"
   ]
  },
  {
   "cell_type": "code",
   "execution_count": null,
   "metadata": {},
   "outputs": [],
   "source": [
    "files_rdd_reduced.take(1)"
   ]
  },
  {
   "cell_type": "code",
   "execution_count": null,
   "metadata": {},
   "outputs": [],
   "source": []
  }
 ],
 "metadata": {
  "interpreter": {
   "hash": "e5de9d614851356dd60279e8f7ef6c62ab8a75a9cdfe868461e866ea8cb8fa3f"
  },
  "kernelspec": {
   "display_name": "Python 3.9.11 ('DAT500')",
   "language": "python",
   "name": "python3"
  },
  "language_info": {
   "codemirror_mode": {
    "name": "ipython",
    "version": 3
   },
   "file_extension": ".py",
   "mimetype": "text/x-python",
   "name": "python",
   "nbconvert_exporter": "python",
   "pygments_lexer": "ipython3",
   "version": "3.10.4"
  },
  "orig_nbformat": 4
 },
 "nbformat": 4,
 "nbformat_minor": 2
}
