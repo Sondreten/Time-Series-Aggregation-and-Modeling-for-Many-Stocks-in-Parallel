{
 "cells": [
  {
   "cell_type": "markdown",
   "id": "dcfc0bc2",
   "metadata": {},
   "source": [
    "#### Notebook to download financial news and headlines from the UIS Refinitiv Eikon subscription."
   ]
  },
  {
   "cell_type": "code",
   "execution_count": null,
   "id": "8d94eec4-d5f1-47d8-a9e6-bb959bb7ca4a",
   "metadata": {},
   "outputs": [],
   "source": [
    "import eikon as ek\n",
    "import csv\n",
    "import datetime\n",
    "import time\n",
    "import pandas as pd"
   ]
  },
  {
   "cell_type": "code",
   "execution_count": null,
   "id": "eede46f4-5c5b-4c95-a44c-1bcd94fff321",
   "metadata": {},
   "outputs": [],
   "source": [
    "# MUST HAVE REFINITIV EIKON DESKTOP APP OPEN AND LOGGED IN TO 1 OF UIS ACCOUNTS (user/pw available from library)\n",
    "ek.set_app_key('6decdfc0fc0a4dbc89f9ab4d81e03532f66a663c')"
   ]
  },
  {
   "cell_type": "code",
   "execution_count": null,
   "id": "ab0640a2-2b99-43e3-9723-425524138437",
   "metadata": {},
   "outputs": [],
   "source": [
    "# Tickers to download news are read in as RIC codes, but the local OSE ticker will be used in the filename\n",
    "stocks_df = pd.read_csv('..\\..\\data\\symbology_tickers.csv')\n",
    "tickers = stocks_df['RIC'].dropna().values.tolist()\n",
    "tickers[0:10]"
   ]
  },
  {
   "cell_type": "code",
   "execution_count": null,
   "id": "00e0a735-4b3b-44a2-92c5-e657f95a2e32",
   "metadata": {},
   "outputs": [],
   "source": [
    "def get_ticker_headlines(ticker, start_date, end_date):\n",
    "    start_date = datetime.datetime.strptime(start_date, '%Y-%m-%dT%H:%M:%S')\n",
    "    end_date = datetime.datetime.strptime(end_date, '%Y-%m-%dT%H:%M:%S')\n",
    "    current_date = start_date\n",
    "    ticker_OSE = stocks_df[stocks_df[\"RIC\"]==ticker]['LOCAL'].values[0]\n",
    "    with open('..\\\\..\\\\data\\\\NEWS\\\\' + ticker_OSE + '.csv', 'w', newline='', encoding='utf-8') as f:\n",
    "        writer = csv.writer(f, quoting=csv.QUOTE_ALL)\n",
    "\n",
    "        while current_date > end_date:\n",
    "            # First get a list of all headlines (contains up to 100)\n",
    "            print(datetime.datetime.strftime(current_date, '%Y-%m-%dT%H:%M:%S'))\n",
    "            try:\n",
    "                hdlns = ek.get_news_headlines(ticker, count=100, date_to=datetime.datetime.strftime(current_date, '%Y-%m-%dT%H:%M:%S'))\n",
    "            except ek.EikonError as err:\n",
    "                time.sleep(10)\n",
    "                continue\n",
    "            print(hdlns)\n",
    "            # Next get call the API with each headline ID to get the full story\n",
    "            for headline in hdlns.itertuples():\n",
    "                print(headline[2])\n",
    "                headline = list(headline)\n",
    "                try:\n",
    "                    story = ek.get_news_story(headline[3], raw_output=True, debug=False)\n",
    "                except ek.EikonError as err:\n",
    "                    time.sleep(10)\n",
    "                    continue\n",
    "                headline.insert(0, ticker_OSE)\n",
    "                headline.append(story)\n",
    "                writer.writerow(headline)\n",
    "\n",
    "            # If less than 100 headlines are returned we've reached the end of the period\n",
    "            if len(hdlns) < 100:\n",
    "                break\n",
    "            else:\n",
    "                current_date = hdlns.index.min().to_pydatetime()\n",
    "\n",
    "    return\n"
   ]
  },
  {
   "cell_type": "code",
   "execution_count": null,
   "id": "590405e4-0488-4192-8cf9-6b2e7c3df8f2",
   "metadata": {},
   "outputs": [],
   "source": [
    "# loop through all tickers and collect headlines\n",
    "for ticker in tickers:\n",
    "    print(ticker)\n",
    "    get_ticker_headlines(ticker, '2022-04-01T00:00:00', '2021-01-01T00:00:00')"
   ]
  }
 ],
 "metadata": {
  "kernelspec": {
   "display_name": "Python 3 (ipykernel)",
   "language": "python",
   "name": "python3"
  },
  "language_info": {
   "codemirror_mode": {
    "name": "ipython",
    "version": 3
   },
   "file_extension": ".py",
   "mimetype": "text/x-python",
   "name": "python",
   "nbconvert_exporter": "python",
   "pygments_lexer": "ipython3",
   "version": "3.9.12"
  }
 },
 "nbformat": 4,
 "nbformat_minor": 5
}
